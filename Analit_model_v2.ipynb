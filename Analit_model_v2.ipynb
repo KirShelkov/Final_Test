{
 "cells": [
  {
   "cell_type": "code",
   "execution_count": 1,
   "id": "ccc5f420",
   "metadata": {},
   "outputs": [],
   "source": [
    "import numpy as np\n",
    "import math\n",
    "import re"
   ]
  },
  {
   "cell_type": "code",
   "execution_count": 2,
   "id": "39c751a3",
   "metadata": {},
   "outputs": [],
   "source": [
    "import plotly.express as px\n",
    "import plotly.graph_objects as go\n",
    "\n",
    "from dash import Dash, dcc, html, Input, Output\n",
    "from jupyter_dash import JupyterDash"
   ]
  },
  {
   "cell_type": "code",
   "execution_count": 3,
   "id": "760824fd",
   "metadata": {},
   "outputs": [],
   "source": [
    "def y_analit(x, v0, alpha, g=9.81):\n",
    "    return math.tan(math.radians(alpha))*x - x**2*(9.81/(2*v0**2*math.cos(math.radians(alpha))**2))"
   ]
  },
  {
   "cell_type": "code",
   "execution_count": 4,
   "id": "10eb299e",
   "metadata": {},
   "outputs": [],
   "source": [
    "app = Dash(__name__)"
   ]
  },
  {
   "cell_type": "code",
   "execution_count": 5,
   "id": "d6e740a3",
   "metadata": {},
   "outputs": [],
   "source": [
    "app.layout = html.Div([\n",
    "    html.H4('Аналитическое решение'),\n",
    "    html.P('Скорость, м/c:'),\n",
    "    dcc.Input(\n",
    "    id='v0', \n",
    "    type='number', \n",
    "    min=1, \n",
    "    max=300,\n",
    "    step = 1,\n",
    "    value = 1\n",
    "    ),\n",
    "    html.P('Угол, град:'),\n",
    "    dcc.Slider(\n",
    "    id ='slider_alpha',\n",
    "    min = 10, \n",
    "    max = 80, \n",
    "    step = 5,\n",
    "    value= 10\n",
    "    ),\n",
    "    dcc.Graph(id = \"graph\"),\n",
    "    html.P('Включить пределы координат:'),\n",
    "    dcc.Checklist(\n",
    "    id = 'limit_on_off',\n",
    "    options=[{'label': 'Включить', 'value': '1'}],\n",
    "    labelStyle={\"display\": \"block\"}\n",
    "    ),\n",
    "    html.P('Предел по X:'),\n",
    "    dcc.Input(\n",
    "    id='x_limit', \n",
    "    type='number', \n",
    "    min=0, \n",
    "    step = 0.01,\n",
    "    value = 0.01\n",
    "    ),\n",
    "    html.P('Предел по Y:'),\n",
    "    dcc.Input(\n",
    "    id='y_limit', \n",
    "    type='number', \n",
    "    min=0, \n",
    "    step = 0.01,\n",
    "    value = 0.01\n",
    "    ),\n",
    "    \n",
    "])"
   ]
  },
  {
   "cell_type": "code",
   "execution_count": 6,
   "id": "8800aeed",
   "metadata": {},
   "outputs": [],
   "source": [
    "@app.callback(\n",
    "Output(\"graph\", \"figure\"),\n",
    "Input(\"v0\", \"value\"),\n",
    "Input(\"slider_alpha\", \"value\"),\n",
    "Input(\"x_limit\", \"value\"),\n",
    "Input(\"y_limit\", \"value\"),\n",
    "Input(\"limit_on_off\", \"value\"))\n",
    "def update_line_chart(v0, alpha, x_limit, y_limit, p):\n",
    "    \n",
    "    L = (v0**2*math.sin(2*math.radians(alpha)))/9.81\n",
    "    H = (v0**2*math.sin(math.radians(alpha))**2)/(2*9.81)\n",
    "    \n",
    "    x_coord = np.linspace(0, L, 100)\n",
    "    y_coord = [y_analit(x, v0, alpha) for x in x_coord]\n",
    "    \n",
    "    fig = px.line(\n",
    "    x = x_coord,\n",
    "    y = y_coord)\n",
    "\n",
    "    if p == None or len(p) == 0:\n",
    "        p = [0]\n",
    "        \n",
    "    if p[0] == '1':    \n",
    "        fig.update_layout(xaxis_range=[0, x_limit])\n",
    "        fig.update_layout(yaxis_range=[0, y_limit])\n",
    "        \n",
    "    \n",
    "    return fig"
   ]
  },
  {
   "cell_type": "code",
   "execution_count": 7,
   "id": "d8651ebe",
   "metadata": {
    "scrolled": false
   },
   "outputs": [
    {
     "data": {
      "text/html": [
       "\n",
       "        <iframe\n",
       "            width=\"100%\"\n",
       "            height=\"650\"\n",
       "            src=\"http://127.0.0.1:2223/\"\n",
       "            frameborder=\"0\"\n",
       "            allowfullscreen\n",
       "            \n",
       "        ></iframe>\n",
       "        "
      ],
      "text/plain": [
       "<IPython.lib.display.IFrame at 0x2ebcae69550>"
      ]
     },
     "metadata": {},
     "output_type": "display_data"
    }
   ],
   "source": [
    "app.run_server(port=2223)"
   ]
  },
  {
   "cell_type": "code",
   "execution_count": null,
   "id": "6c2088e3",
   "metadata": {},
   "outputs": [],
   "source": []
  }
 ],
 "metadata": {
  "kernelspec": {
   "display_name": "Python 3 (ipykernel)",
   "language": "python",
   "name": "python3"
  },
  "language_info": {
   "codemirror_mode": {
    "name": "ipython",
    "version": 3
   },
   "file_extension": ".py",
   "mimetype": "text/x-python",
   "name": "python",
   "nbconvert_exporter": "python",
   "pygments_lexer": "ipython3",
   "version": "3.11.5"
  }
 },
 "nbformat": 4,
 "nbformat_minor": 5
}
